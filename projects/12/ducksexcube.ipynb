{
 "cells": [
  {
   "cell_type": "markdown",
   "id": "1f54f733",
   "metadata": {},
   "source": [
    "# An analysis of sex ratios using a biodiversity data cube from GBIF data"
   ]
  },
  {
   "cell_type": "markdown",
   "id": "a1b5ed21",
   "metadata": {},
   "source": [
    "This notebook was created for analysing GBIF download https://www.gbif.org/occurrence/download/0083528-240321170329656\n",
    "Date 2 April 2024\n",
    "Occurrences 4,038,527\n",
    "Involved datasets 4,985\n",
    "Involved publishers 230"
   ]
  },
  {
   "cell_type": "markdown",
   "id": "2c842224",
   "metadata": {},
   "source": [
    "Note: This select ignores ```dwc:individualCount``` in the record. It treats each record as an individual.\n",
    "In the future it\n",
    "\n",
    "``` SELECT \"year\", gbif_eeargCode(10000, decimalLatitude, decimalLongitude, COALESCE(coordinateUncertaintyInMeters, 10000)) AS eeaCellCode, speciesKey, COUNT(*) AS 'count', SUM(CASE WHEN sex = 'FEMALE' THEN 1 ELSE 0 END) AS female_count, SUM(CASE WHEN sex = 'MALE' THEN 1 ELSE 0 END) AS male_count, SUM(CASE WHEN sex = 'HERMERMAPHRODITE' THEN 1 ELSE 0 END) AS hermaphrodite_count, MIN(COALESCE(coordinateUncertaintyInMeters, 10000)) AS minCoordinateUncertaintyInMeters FROM occurrence WHERE occurrenceStatus = 'PRESENT' AND familyKey = 2986 AND NOT array_contains(issue, 'ZERO_COORDINATE') AND NOT array_contains(issue, 'COORDINATE_OUT_OF_RANGE') AND NOT array_contains(issue, 'COORDINATE_INVALID') AND NOT array_contains(issue, 'COUNTRY_COORDINATE_MISMATCH') AND (identificationVerificationStatus IS NULL OR NOT ( LOWER(identificationVerificationStatus) LIKE '%unverified%' OR LOWER(identificationVerificationStatus) LIKE '%unvalidated%' OR LOWER(identificationVerificationStatus) LIKE '%not able to validate%' OR LOWER(identificationVerificationStatus) LIKE '%control could not be conclusive due to insufficient knowledge%' OR LOWER(identificationVerificationStatus) LIKE '%unconfirmed%' OR LOWER(identificationVerificationStatus) LIKE '%unconfirmed - not reviewed%' OR LOWER(identificationVerificationStatus) LIKE '%validation requested%' ) ) AND \"year\" >= 1900 AND continent = 'EUROPE' AND hasCoordinate GROUP BY \"year\", eeaCellCode, speciesKey ORDER BY \"year\" DESC, eeaCellCode ASC, speciesKey ASC; ```"
   ]
  },
  {
   "cell_type": "code",
   "execution_count": null,
   "id": "168e9d9a",
   "metadata": {},
   "outputs": [],
   "source": [
    "import pandas as pd\n",
    "import matplotlib.pyplot as plt\n",
    "import numpy as np\n",
    "import geopandas as gpd\n",
    "from shapely.geometry import Point\n",
    "from shapely import wkt\n",
    "import seaborn as sns\n",
    "from shapely.geometry import Polygon, MultiPolygon\n",
    "import requests\n",
    "import sys\n",
    "import scipy.stats as stats\n",
    "from pykrige.ok import OrdinaryKriging\n",
    "from matplotlib.path import Path"
   ]
  },
  {
   "cell_type": "markdown",
   "id": "c7776224",
   "metadata": {},
   "source": [
    "Read the file, assuming it's tab-separated and the first row contains column names"
   ]
  },
  {
   "cell_type": "code",
   "execution_count": null,
   "id": "52c53883",
   "metadata": {},
   "outputs": [],
   "source": [
    "file_path = '0083528-240321170329656.csv'   \n",
    "df = pd.read_csv(file_path, sep='\\t')"
   ]
  },
  {
   "cell_type": "markdown",
   "id": "12997b6d",
   "metadata": {},
   "source": [
    "#### Split the 'eeacellcode' column into three new columns ('resolution', 'long', 'lat')\n",
    "    with four characters in each and adds them to the DataFrame.\n",
    "\n",
    "    Parameters:\n",
    "    - df: The original DataFrame containing the 'eeacellcode' column.\n",
    "\n",
    "    Returns:\n",
    "    - df: The modified DataFrame with the new columns added.\n",
    "    \"\"\"\n",
    "#### Check if 'eeacellcode' column exists in the DataFrame"
   ]
  },
  {
   "cell_type": "code",
   "execution_count": null,
   "id": "4be0842c",
   "metadata": {},
   "outputs": [],
   "source": [
    "if 'eeacellcode' in df.columns:\n",
    "     # Splitting the 'eeacellcode' column into three new columns\n",
    "     df['resolution'] = df['eeacellcode'].str[:4]\n",
    "     df['long'] = df['eeacellcode'].str[4:8]\n",
    "     df['lat'] = df['eeacellcode'].str[8:12]\n",
    "else:\n",
    "     print(\"The column 'eeacellcode' does not exist in the DataFrame.\")"
   ]
  },
  {
   "cell_type": "markdown",
   "id": "69655153",
   "metadata": {},
   "source": [
    "#### Drop some rows with blanks in them"
   ]
  },
  {
   "cell_type": "code",
   "execution_count": null,
   "id": "88ae5a0e",
   "metadata": {},
   "outputs": [],
   "source": [
    "df = df.dropna()"
   ]
  },
  {
   "cell_type": "markdown",
   "id": "71ef760a",
   "metadata": {},
   "source": [
    "#### Remove the first character from 'long' and 'lat' columns and create new 'longitude' and 'latitude' columns"
   ]
  },
  {
   "cell_type": "code",
   "execution_count": null,
   "id": "b7ce6662",
   "metadata": {},
   "outputs": [],
   "source": [
    "df['longitude'] = df['long'].str[1:]"
   ]
  },
  {
   "cell_type": "code",
   "execution_count": null,
   "id": "d16c0467",
   "metadata": {},
   "outputs": [],
   "source": [
    "df['latitude'] = df['lat'].str[1:]"
   ]
  },
  {
   "cell_type": "code",
   "execution_count": null,
   "id": "0a21aa2a",
   "metadata": {},
   "outputs": [],
   "source": [
    "df['longitude'] = pd.to_numeric(df['longitude'], downcast='float') * 10000\n",
    "df['latitude'] = pd.to_numeric(df['latitude'], downcast='float') * 10000"
   ]
  },
  {
   "cell_type": "markdown",
   "id": "fcaad012",
   "metadata": {},
   "source": [
    "#### Convert 'longitude' and 'latitude' to numeric types, if they're not already"
   ]
  },
  {
   "cell_type": "code",
   "execution_count": null,
   "id": "01e4930a",
   "metadata": {},
   "outputs": [],
   "source": [
    "df['longitude'] = pd.to_numeric(df['longitude'], errors='coerce')\n",
    "df['latitude'] = pd.to_numeric(df['latitude'], errors='coerce')"
   ]
  },
  {
   "cell_type": "markdown",
   "id": "369175cd",
   "metadata": {},
   "source": [
    "#### Create a new GeoDataFrame"
   ]
  },
  {
   "cell_type": "code",
   "execution_count": null,
   "id": "0008f1f7",
   "metadata": {},
   "outputs": [],
   "source": [
    "gdf = gpd.GeoDataFrame(df, geometry=gpd.points_from_xy(df.longitude, df.latitude))"
   ]
  },
  {
   "cell_type": "markdown",
   "id": "a63c83e9",
   "metadata": {},
   "source": [
    "#### Set the coordinate reference system (CRS) to ETRS89-LAEA Europe (EPSG:3035) for latitude and longitude"
   ]
  },
  {
   "cell_type": "code",
   "execution_count": null,
   "id": "0c6b2454",
   "metadata": {},
   "outputs": [],
   "source": [
    "gdf.crs = \"EPSG:3035\"\n",
    "\n",
    "# Now 'gdf' is a GeoDataFrame with a 'geometry' column holding spatial data\n",
    "\n",
    "# Print out a few rows, just to check that everything looks okay.\n",
    "print(gdf.head(2))"
   ]
  },
  {
   "cell_type": "markdown",
   "id": "7963136a",
   "metadata": {},
   "source": [
    "#### Plot of all the points to check that the it meets expectations\n",
    "\n",
    "This has been commented out as it takes a while to run, and is really only useful for debugging purposes."
   ]
  },
  {
   "cell_type": "code",
   "execution_count": null,
   "id": "cb71fc58",
   "metadata": {},
   "outputs": [],
   "source": [
    "#gdf.plot(marker='o', color='red', markersize=1)\n",
    "#plt.show()"
   ]
  },
  {
   "cell_type": "markdown",
   "id": "638eb8b7",
   "metadata": {},
   "source": [
    "#### Group by 'specieskey' and aggregate the counts\n",
    "The geometry is not directly involved in the aggregation here"
   ]
  },
  {
   "cell_type": "code",
   "execution_count": null,
   "id": "e0a1a6c5",
   "metadata": {},
   "outputs": [],
   "source": [
    "result = gdf.groupby('specieskey').agg({\n",
    "    'count': 'sum',  # Summing up total counts\n",
    "    'female_count': 'sum',  # Summing up female counts\n",
    "    'male_count': 'sum',    # Summing up male counts\n",
    "}).reset_index()\n",
    "\n",
    "# Now sort the results by 'count' in descending order just to get a look at which are commonest and which are rarest\n",
    "result = result.sort_values(by='count', ascending=False)"
   ]
  },
  {
   "cell_type": "markdown",
   "id": "d1335dce",
   "metadata": {},
   "source": [
    "#### Define a function to get species Latin name from GBIF by speciesKey"
   ]
  },
  {
   "cell_type": "code",
   "execution_count": null,
   "id": "864b9b04",
   "metadata": {},
   "outputs": [],
   "source": [
    "def get_species_names(speciesKey):\n",
    "    # Convert speciesKey to integer to remove the '.0'\n",
    "    speciesKey = int(speciesKey)\n",
    "    url = f\"https://api.gbif.org/v1/species/{speciesKey}\"\n",
    "    response = requests.get(url)\n",
    "    if response.status_code == 200:\n",
    "        data = response.json()\n",
    "        latin_name = data.get('scientificName')\n",
    "        vernacular_name = data.get('vernacularName', 'N/A')  # Default to 'N/A' if not available\n",
    "        return latin_name, vernacular_name\n",
    "    else:\n",
    "        print(f\"Failed to retrieve data for speciesKey {speciesKey}. Status code: {response.status_code}\")\n",
    "        return None, None"
   ]
  },
  {
   "cell_type": "markdown",
   "id": "d4784aff",
   "metadata": {},
   "source": [
    "#### Function to append Latin names to your DataFrame"
   ]
  },
  {
   "cell_type": "code",
   "execution_count": null,
   "id": "d0d5a59a",
   "metadata": {},
   "outputs": [],
   "source": [
    "def append_names(df):\n",
    "    # Create new columns for the Latin and vernacular names\n",
    "    names = df['specieskey'].apply(lambda x: get_species_names(x))\n",
    "    df['latin_name'] = names.apply(lambda x: x[0])\n",
    "    df['vernacular_name'] = names.apply(lambda x: x[1])\n",
    "    return df"
   ]
  },
  {
   "cell_type": "markdown",
   "id": "128a2d86",
   "metadata": {},
   "source": [
    "#### Calculate the proportion for each row of the number of records with a sex vs the total count"
   ]
  },
  {
   "cell_type": "code",
   "execution_count": null,
   "id": "678dce3e",
   "metadata": {},
   "outputs": [],
   "source": [
    "result['proportion'] = (result['female_count'] + result['male_count']) / result['count']\n",
    "\n",
    "# Then, find the row with the maximum proportion\n",
    "max_prop_row = result.loc[result['proportion'].idxmax()]\n",
    "min_prop_row = result.loc[result['proportion'].idxmin()]\n",
    "max_species = get_species_names(max_prop_row['specieskey'])\n",
    "min_species = get_species_names(min_prop_row['specieskey'])\n",
    "\n",
    "# Print out the specieskey and the maximum proportion\n",
    "print(f\"Species Key with highest proportion: {max_prop_row['specieskey']}\")\n",
    "print(f\"Species name: {max_species}\")\n",
    "print(f\"Maximum proportion: {max_prop_row['proportion']}\")\n",
    "\n",
    "print(f\"Species Key with lowest proportion: {min_prop_row['specieskey']}\")\n",
    "print(f\"Species name: {min_species}\")\n",
    "print(f\"Minimum proportion: {min_prop_row['proportion']}\")"
   ]
  },
  {
   "cell_type": "markdown",
   "id": "8a20b8b0",
   "metadata": {},
   "source": [
    "##### Sort the DataFrame by the 'proportion' column in descending order\n",
    "\n",
    "Filter the DataFrame to include only rows where 'count' > 10000\n",
    "\n",
    "10000 is a rather arbitary number to filter our rare and casual species"
   ]
  },
  {
   "cell_type": "code",
   "execution_count": null,
   "id": "f63de0ef",
   "metadata": {},
   "outputs": [],
   "source": [
    "sorted_gdf = result.sort_values(by='proportion', ascending=False)\n",
    "\n",
    "filtered_result = sorted_gdf[sorted_gdf['count'] > 10000].copy()\n",
    "\n",
    "filtered_result_with_names = append_names(filtered_result)\n",
    "\n",
    "# Step 2: Select the top ten entries\n",
    "top_ = filtered_result.head(5).copy()\n",
    "\n",
    "# Step 3: Select the bottom ten entries\n",
    "bottom_ = filtered_result.sort_values(by='proportion', ascending=True).head(5).copy()\n",
    "\n",
    "# Apply the function to both top ten and bottom ten DataFrames\n",
    "top_ten_with_names = append_names(top_)\n",
    "bottom_ten_with_names = append_names(bottom_)"
   ]
  },
  {
   "cell_type": "markdown",
   "id": "f6d7b39d",
   "metadata": {},
   "source": [
    "#### Display the results"
   ]
  },
  {
   "cell_type": "code",
   "execution_count": null,
   "id": "908f7529",
   "metadata": {},
   "outputs": [],
   "source": [
    "print(\"Top species by proportion:\")\n",
    "print(top_[['specieskey', 'count', 'proportion', 'latin_name', 'vernacular_name']])\n",
    "\n",
    "print(\"\\nBottom species by proportion:\")\n",
    "print(bottom_[['specieskey', 'count', 'proportion', 'latin_name', 'vernacular_name']])"
   ]
  },
  {
   "cell_type": "code",
   "execution_count": null,
   "id": "bd426ee8",
   "metadata": {},
   "outputs": [],
   "source": [
    "num_rows = len(filtered_result)\n",
    "print(\"Number of species left:\", num_rows)\n",
    "filtered_result_with_names.to_csv('high_species_counts.csv', index=False)"
   ]
  },
  {
   "cell_type": "markdown",
   "id": "fe4266d5",
   "metadata": {},
   "source": [
    "#### Calculate the start year of the decade for each row and create a new 'decade' column"
   ]
  },
  {
   "cell_type": "code",
   "execution_count": null,
   "id": "b7860cd2",
   "metadata": {},
   "outputs": [],
   "source": [
    "gdf['decade'] = (gdf['year'] // 10) * 10"
   ]
  },
  {
   "cell_type": "markdown",
   "id": "16895158",
   "metadata": {},
   "source": [
    "#### Convert the geometrycolumn to well known text sothat it can be aggregated in the next step"
   ]
  },
  {
   "cell_type": "code",
   "execution_count": null,
   "id": "94a8b9d2",
   "metadata": {},
   "outputs": [],
   "source": [
    "gdf['geometry_wkt'] = gdf['geometry'].apply(lambda x: x.wkt)"
   ]
  },
  {
   "cell_type": "markdown",
   "id": "2853ed64",
   "metadata": {},
   "source": [
    "#### Grouping the DataFrame by 'eeacellcode' and 'specieskey'"
   ]
  },
  {
   "cell_type": "code",
   "execution_count": null,
   "id": "cce75353",
   "metadata": {},
   "outputs": [],
   "source": [
    "grouped_df = gdf.groupby(['decade','eeacellcode', 'specieskey', 'long', 'lat', 'longitude', 'latitude','geometry_wkt'])[['count', 'female_count', 'male_count']].sum().reset_index()"
   ]
  },
  {
   "cell_type": "markdown",
   "id": "217280b0",
   "metadata": {},
   "source": [
    "#### Set the coordinate reference system (CRS) to ETRS89-LAEA Europe (EPSG:3035) for latitude and longitude"
   ]
  },
  {
   "cell_type": "code",
   "execution_count": null,
   "id": "676f7fc6",
   "metadata": {},
   "outputs": [],
   "source": [
    "grouped_df.crs = \"EPSG:3035\""
   ]
  },
  {
   "cell_type": "code",
   "execution_count": null,
   "id": "e1a8c499",
   "metadata": {},
   "outputs": [],
   "source": [
    "grouped_df['geometry'] = grouped_df['geometry_wkt'].apply(wkt.loads)\n",
    "\n",
    "# Convert to a GeoDataFrame\n",
    "ggdf = gpd.GeoDataFrame(grouped_df, geometry='geometry')"
   ]
  },
  {
   "cell_type": "markdown",
   "id": "87649f9c",
   "metadata": {},
   "source": [
    "## Choose a species of European duck  to analyses\n",
    "\n",
    "#### An example is *Aythya fuligula* (L., 1758) = 2498261 (Tufted Duck) a freshwater duck\n",
    "#### Another is *Somateria mollissima* (Linnaeus, 1758) = 2498352 (Common Eider) a sea duck\n",
    "#### And yet another is *Somateria spectabilis* (Linnaeus, 1758) = 2498350 (King Eider) a sea duck\n"
   ]
  },
  {
   "cell_type": "code",
   "execution_count": null,
   "id": "7f0c951e",
   "metadata": {},
   "outputs": [],
   "source": [
    "duckkey = input(\"Enter the taxon key of a European duck from GBIF (default: Anas platyrhynchos = 9761484): \")\n",
    "\n",
    "# Check if the input is empty\n",
    "if not duckkey.strip():\n",
    "    # Set default value if input is empty\n",
    "    duckkey = 9761484\n",
    "    \n",
    "duckkey = int(duckkey)\n",
    "\n",
    "print(f\"Your duck key is , {duckkey}!\")"
   ]
  },
  {
   "cell_type": "markdown",
   "id": "e70ac828",
   "metadata": {},
   "source": [
    "#### Select rows where the 'specieskey' column matches the specific_specieskey"
   ]
  },
  {
   "cell_type": "code",
   "execution_count": null,
   "id": "aa8f639f",
   "metadata": {},
   "outputs": [],
   "source": [
    "filtered_gdf = ggdf[ggdf['specieskey'] == duckkey].copy()"
   ]
  },
  {
   "cell_type": "markdown",
   "id": "bbca4aa8",
   "metadata": {},
   "source": [
    "##### Set the coordinate reference system (CRS) to ETRS89-LAEA Europe (EPSG:3035) for latitude and longitude"
   ]
  },
  {
   "cell_type": "code",
   "execution_count": null,
   "id": "a0cb96c1",
   "metadata": {},
   "outputs": [],
   "source": [
    "filtered_gdf.crs = \"EPSG:3035\""
   ]
  },
  {
   "cell_type": "code",
   "execution_count": null,
   "id": "f8852df6",
   "metadata": {},
   "outputs": [],
   "source": [
    "columns = grouped_df.columns\n",
    "print(columns)"
   ]
  },
  {
   "cell_type": "code",
   "execution_count": null,
   "id": "f1f88181",
   "metadata": {},
   "outputs": [],
   "source": [
    "filtered_gdf.plot(marker='o', color='black', markersize=1)\n",
    "plt.show()"
   ]
  },
  {
   "cell_type": "markdown",
   "id": "284b8677",
   "metadata": {},
   "source": [
    "#### Remove rows where both 'female_count' and 'male_count' are zero, and 'eeacellcode' is NaN"
   ]
  },
  {
   "cell_type": "code",
   "execution_count": null,
   "id": "401ca74f",
   "metadata": {},
   "outputs": [],
   "source": [
    "filtered_gdf1 = filtered_gdf[(filtered_gdf['female_count'] > 1) | (filtered_gdf['male_count'] > 1)]"
   ]
  },
  {
   "cell_type": "code",
   "execution_count": null,
   "id": "f4803230",
   "metadata": {},
   "outputs": [],
   "source": [
    "filtered_gdf.loc[:, 'percentage_male'] = np.where(\n",
    "    (filtered_gdf['female_count'] + filtered_gdf['male_count']) > 0,\n",
    "    100 * (filtered_gdf['male_count'] / (filtered_gdf['female_count'] + filtered_gdf['male_count'])),\n",
    "    np.nan\n",
    ")\n"
   ]
  },
  {
   "cell_type": "markdown",
   "id": "46279192",
   "metadata": {},
   "source": [
    "#### Plot using the 'sex_ratio' column to color the points"
   ]
  },
  {
   "cell_type": "code",
   "execution_count": null,
   "id": "468d0b23",
   "metadata": {},
   "outputs": [],
   "source": [
    "fig, ax = plt.subplots(1, 1, figsize=(10, 16))\n",
    "\n",
    "filtered_gdf.plot(column='percentage_male', ax=ax, legend=True, \n",
    "         legend_kwds={'label': \"Percentage male %\", 'orientation': \"horizontal\"},\n",
    "         cmap='viridis', markersize=50, alpha=0.4)  # Adjust 'markersize' and 'alpha' as needed\n",
    "\n",
    "plt.title('Geographic Distribution of Sex Ratio')\n",
    "plt.xlabel('Longitude')\n",
    "plt.ylabel('Latitude')\n",
    "plt.show()"
   ]
  },
  {
   "cell_type": "code",
   "execution_count": null,
   "id": "581761e2",
   "metadata": {},
   "outputs": [],
   "source": [
    "point_filtered_gdf = filtered_gdf.copy()"
   ]
  },
  {
   "cell_type": "markdown",
   "id": "b1b45629",
   "metadata": {},
   "source": [
    "#### Drop NaN values and also ensure there are no infinite values"
   ]
  },
  {
   "cell_type": "code",
   "execution_count": null,
   "id": "7ecd336c",
   "metadata": {},
   "outputs": [],
   "source": [
    "filtered_gdf = filtered_gdf.dropna(subset=['decade', 'percentage_male'])\n",
    "filtered_gdf = filtered_gdf.replace([np.inf, -np.inf], np.nan).dropna(subset=['decade', 'percentage_male'])\n",
    "\n",
    "# Filter cells with more than 10 observations\n",
    "filtered_gdf = filtered_gdf[filtered_gdf['count'] > 10]"
   ]
  },
  {
   "cell_type": "code",
   "execution_count": null,
   "id": "fc665ceb",
   "metadata": {},
   "outputs": [],
   "source": [
    "filtered_gdf.head()"
   ]
  },
  {
   "cell_type": "markdown",
   "id": "14a58e1a",
   "metadata": {},
   "source": [
    "## The change in the percentage of male ducks aross Europe aggregated by decade"
   ]
  },
  {
   "cell_type": "code",
   "execution_count": null,
   "id": "9aed7f8d",
   "metadata": {},
   "outputs": [],
   "source": [
    "# Setting the aesthetic style of the plots\n",
    "sns.set_style(\"whitegrid\")\n",
    "\n",
    "plt.figure(figsize=(12, 6))\n",
    "fig, ax = plt.subplots(figsize=(12, 6))\n",
    "\n",
    "# Create a box plot\n",
    "sns.boxplot(x='decade', y='percentage_male', data=filtered_gdf, color='skyblue', ax=ax)\n",
    "\n",
    "# Set the y-axis to a logarithmic scale\n",
    "ax.set_yscale('linear')\n",
    "\n",
    "# Adding a dotted horizontal line at 50%\n",
    "ax.axhline(y=50, color='red', linestyle='--', linewidth=2, label='50% line')\n",
    "\n",
    "plt.title('Percentage Male by Decade')\n",
    "plt.xlabel('Decade')\n",
    "plt.ylabel('Percentage male')\n",
    "plt.xticks(rotation=45)  # Rotate the x-axis labels for better readability\n",
    "plt.savefig('ratiotimeseries.jpg', dpi=600, format='jpg')\n",
    "plt.show()\n"
   ]
  },
  {
   "cell_type": "markdown",
   "id": "8dda97c2",
   "metadata": {},
   "source": [
    "## The change in the total number of occupied cells per decade"
   ]
  },
  {
   "cell_type": "code",
   "execution_count": null,
   "id": "00a11a18",
   "metadata": {},
   "outputs": [],
   "source": [
    "# Setting the aesthetic style of the plots\n",
    "sns.set_style(\"whitegrid\")\n",
    "\n",
    "plt.figure(figsize=(12, 6))\n",
    "\n",
    "# Create a box plot\n",
    "sns.boxplot(x='decade', y='count', data=filtered_gdf, color='skyblue')\n",
    "\n",
    "plt.title('Total number of duck occupancies by Decade')\n",
    "plt.xlabel('Decade')\n",
    "plt.ylabel('Total number of occupancies')\n",
    "plt.xticks(rotation=45)  # Rotate the x-axis labels for better readability\n",
    "\n",
    "plt.show()\n"
   ]
  },
  {
   "cell_type": "markdown",
   "id": "cbc06072",
   "metadata": {},
   "source": [
    "#### Convert GeoDataFrame to a regular DataFrame for the melting process"
   ]
  },
  {
   "cell_type": "code",
   "execution_count": null,
   "id": "546407c8",
   "metadata": {},
   "outputs": [],
   "source": [
    "df = pd.DataFrame(gdf.drop(columns='geometry'))\n",
    "\n",
    "aggregatedAllByDecade = df.groupby('decade')[['male_count', 'female_count']].sum().reset_index()\n",
    "\n",
    "# Melting the DataFrame\n",
    "df_melted = aggregatedAllByDecade.melt(id_vars=['decade'], value_vars=['male_count', 'female_count'],\n",
    "                    var_name='Gender', value_name='Count')"
   ]
  },
  {
   "cell_type": "code",
   "execution_count": null,
   "id": "6ddb04e6",
   "metadata": {},
   "outputs": [],
   "source": [
    "# Define a colorblind-safe palette\n",
    "colors = sns.color_palette(\"Paired\", 2)  # 'husl' is colorblind safe; adjust the number as needed for categories"
   ]
  },
  {
   "cell_type": "markdown",
   "id": "0099cb3b",
   "metadata": {},
   "source": [
    "#### Creating the boxplot with seaborn"
   ]
  },
  {
   "cell_type": "code",
   "execution_count": null,
   "id": "9fc4da4e",
   "metadata": {},
   "outputs": [],
   "source": [
    "barplot = sns.barplot(x='decade', y='Count', hue='Gender', palette=colors, alpha=0.5, data=df_melted)\n",
    "\n",
    "plt.title('Comparison of Male and Female Counts by Decade')\n",
    "plt.xlabel('Decade')\n",
    "plt.ylabel('Count')\n",
    "plt.grid(axis='y')\n",
    "\n",
    "# Modify the legend\n",
    "leg = barplot.get_legend()\n",
    "leg.set_title('Gender')\n",
    "new_labels = ['Males', 'Females']\n",
    "for t, l in zip(leg.texts, new_labels):\n",
    "    t.set_text(l)\n",
    "\n",
    "plt.savefig('count.jpg', dpi=600, format='jpg')\n",
    "\n",
    "plt.show()"
   ]
  },
  {
   "cell_type": "markdown",
   "id": "98005686",
   "metadata": {},
   "source": [
    "Until this point the grid cells have been treated as points.\n",
    "This function converts those points into square polygons.\n",
    "This function defaults to 10x10 km grid cells. "
   ]
  },
  {
   "cell_type": "code",
   "execution_count": null,
   "id": "6e601173",
   "metadata": {},
   "outputs": [],
   "source": [
    "def create_square_polygon_from_point(point, side_length=10000):\n",
    "    if point is None:\n",
    "        return None\n",
    "    lower_left = point\n",
    "    lower_right = (point.x + side_length, point.y)\n",
    "    upper_right = (point.x + side_length, point.y + side_length)\n",
    "    upper_left = (point.x, point.y + side_length)\n",
    "    return Polygon([lower_left, lower_right, upper_right, upper_left, lower_left])"
   ]
  },
  {
   "cell_type": "markdown",
   "id": "0c4d9578",
   "metadata": {},
   "source": [
    "#### Apply the function to create a new 'square_polygon' column"
   ]
  },
  {
   "cell_type": "code",
   "execution_count": null,
   "id": "08042cb5",
   "metadata": {},
   "outputs": [],
   "source": [
    "filtered_gdf['square_polygon'] = filtered_gdf['geometry'].apply(create_square_polygon_from_point)"
   ]
  },
  {
   "cell_type": "code",
   "execution_count": null,
   "id": "bcdd4cd5",
   "metadata": {},
   "outputs": [],
   "source": [
    "filtered_gdf = filtered_gdf.set_geometry('square_polygon')"
   ]
  },
  {
   "cell_type": "markdown",
   "id": "c156958f",
   "metadata": {},
   "source": [
    "### Load the world country boundaries map\n",
    "#### Country boundaries from https://www.naturalearthdata.com/downloads/50m-cultural-vectors/"
   ]
  },
  {
   "cell_type": "code",
   "execution_count": null,
   "id": "8b45a7f9",
   "metadata": {},
   "outputs": [],
   "source": [
    "path_to_shapefile = 'ne_50m_admin_0_countries.shp'\n",
    "\n",
    "# Reading the shapefile\n",
    "world = gpd.read_file(path_to_shapefile)\n",
    "\n",
    "#world = gpd.read_file(gpd.datasets.get_path('naturalearth_lowres'))\n",
    "europe = world[world['CONTINENT'] == 'Europe']\n",
    "europe = europe.to_crs(filtered_gdf.crs)"
   ]
  },
  {
   "cell_type": "markdown",
   "id": "1d6aab2a",
   "metadata": {},
   "source": [
    "#### Set the boundaries of the map. These can be replaced to zoom into specific areas."
   ]
  },
  {
   "cell_type": "code",
   "execution_count": null,
   "id": "e397edbb",
   "metadata": {},
   "outputs": [],
   "source": [
    "min_longitude, max_longitude = 2500000, 6000000  # Adjust these values to your desired longitude bounds\n",
    "min_latitude, max_latitude = 1500000, 6000000    # Adjust these values to your desired latitude bounds"
   ]
  },
  {
   "cell_type": "markdown",
   "id": "e1f999e5",
   "metadata": {},
   "source": [
    "#### Plot a map of of the records to show their distribtion"
   ]
  },
  {
   "cell_type": "code",
   "execution_count": null,
   "id": "6e690317",
   "metadata": {},
   "outputs": [],
   "source": [
    "fig, ax = plt.subplots(1, 1, figsize=(10, 20))\n",
    "\n",
    "# Plot using the 'sex_ratio' column to color the points\n",
    "filtered_gdf.plot(edgecolor='none', column='percentage_male', ax=ax, legend=True, \n",
    "         legend_kwds={'label': \"Percentage males\", 'orientation': \"horizontal\"},\n",
    "         cmap='PRGn', markersize=50, alpha=1)  # Adjust 'markersize' and 'alpha' as needed\n",
    "europe.boundary.plot(ax=ax, edgecolor='black', linewidth=1)\n",
    "\n",
    "# Set the x and y limits to your desired bounds\n",
    "ax.set_xlim(min_longitude, max_longitude)\n",
    "ax.set_ylim(min_latitude, max_latitude)\n",
    "\n",
    "plt.title('Geographic Distribution of males %')\n",
    "plt.xlabel('Longitude')\n",
    "plt.ylabel('Latitude')\n",
    "\n",
    "# Save the plot as a JPG file with 600 DPI (dots per inch), which is equivalent to PPI (pixels per inch)\n",
    "plt.savefig('duckmap.jpg', dpi=600, format='jpg')\n",
    "\n",
    "plt.show()"
   ]
  },
  {
   "cell_type": "markdown",
   "id": "5cf8bd44",
   "metadata": {},
   "source": [
    "### Owing to the spatial hetrogenecity of the desisty of occupied grid cells it is useful to use kriging to interpolate between points and visulize possible structure in the data"
   ]
  },
  {
   "cell_type": "code",
   "execution_count": null,
   "id": "f635bc5c",
   "metadata": {
    "scrolled": true
   },
   "outputs": [],
   "source": [
    "# Ensure your data has been correctly filtered and coordinates extracted\n",
    "filtered = point_filtered_gdf[point_filtered_gdf['count'] > 10]\n",
    "\n",
    "coordinates = np.array(list(filtered.geometry.apply(lambda geom: (geom.x, geom.y))))\n",
    "values = filtered['percentage_male'].values\n",
    "\n",
    "# Create a mask to identify non-NaN values\n",
    "mask = ~np.isnan(values)\n",
    "\n",
    "# Filter the coordinates and values arrays using the mask\n",
    "filtered_coordinates = coordinates[mask]\n",
    "filtered_values = values[mask]\n",
    "\n",
    "# Check the filtered coordinates and values\n",
    "print(\"Filtered Coordinates:\", filtered_coordinates)\n",
    "print(\"Filtered Values:\", filtered_values)\n",
    "\n",
    "# Create an Ordinary Kriging object with parameters\n",
    "OK = OrdinaryKriging(\n",
    "    filtered_coordinates[:, 0],  # X coordinates\n",
    "    filtered_coordinates[:, 1],  # Y coordinates\n",
    "    filtered_values,             # Data values\n",
    "    #variogram_model='exponential',  # Example variogram model\n",
    "    variogram_model='hole-effect',  # Example variogram model\n",
    "    #variogram_model='linear',  # Example variogram model\n",
    "    #variogram_model='dpherical',  # Example variogram model\n",
    "    #variogram_model='power',  # Example variogram model\n",
    "    #variogram_model='gaussian',  # Example variogram model\n",
    "    verbose=True,       # For verbose output\n",
    "    enable_plotting=True # For displaying variogram\n",
    ")\n",
    "\n",
    "# Define the grid size over which to interpolate\n",
    "grid_x = np.linspace(filtered_coordinates[:, 0].min(), filtered_coordinates[:, 0].max(), num=100)\n",
    "grid_y = np.linspace(filtered_coordinates[:, 1].min(), filtered_coordinates[:, 1].max(), num=100)\n",
    "\n",
    "# Perform kriging to interpolate\n",
    "z, ss = OK.execute('grid', grid_x, grid_y)\n",
    "\n",
    "# Create a meshgrid for plotting\n",
    "X, Y = np.meshgrid(grid_x, grid_y)\n",
    "\n",
    "# Plot interpolated data and kriging error\n",
    "fig, (ax1, ax2) = plt.subplots(1, 2, figsize=(20, 12))\n",
    "\n",
    "# Plot interpolated data\n",
    "cf1 = ax1.contourf(X, Y, z, cmap='viridis', alpha=0.5, levels=10, vmin=0, vmax=100)\n",
    "fig.colorbar(cf1, ax=ax1, label='Percentage of Males')\n",
    "europe.boundary.plot(ax=ax1, linewidth=1, edgecolor='k')\n",
    "ax1.set_title('Interpolated Proportion of Males in Europe')\n",
    "ax1.set_xlabel('Longitude')\n",
    "ax1.set_ylabel('Latitude')\n",
    "ax1.set_aspect('equal')\n",
    "\n",
    "# Plot the error (standard deviation)\n",
    "cf2 = ax2.contourf(X, Y, np.sqrt(ss), cmap='hot_r', levels=10)\n",
    "fig.colorbar(cf2, ax=ax2, label='Standard Deviation')\n",
    "europe.boundary.plot(ax=ax2, linewidth=1, edgecolor='k')\n",
    "ax2.set_title('Kriging Error Map')\n",
    "ax2.set_xlabel('Longitude')\n",
    "ax2.set_ylabel('Latitude')\n",
    "ax2.set_aspect('equal')\n",
    "\n",
    "# Set axis limits\n",
    "ax1.set_xlim([X.min(), X.max()])\n",
    "ax1.set_ylim([Y.min(), Y.max()])\n",
    "ax2.set_xlim([X.min(), X.max()])\n",
    "ax2.set_ylim([Y.min(), Y.max()])\n",
    "\n",
    "# Save and show the plot\n",
    "plt.savefig('european_males_interpolation_and_error.jpg', dpi=600, format='jpg')\n",
    "plt.show()"
   ]
  },
  {
   "cell_type": "markdown",
   "id": "3d63121e",
   "metadata": {},
   "source": [
    "### Ducks often tend to live in freshwater, or seawater, but not both. For this reason it can be useful to either crop out the land or the sea\n",
    "\n",
    "To switch it over comment out the mask inversion and uncomment the mask lines\n"
   ]
  },
  {
   "cell_type": "code",
   "execution_count": null,
   "id": "60c25c59",
   "metadata": {},
   "outputs": [],
   "source": [
    "# Load the world country boundaries map\n",
    "path_to_shapefile = 'ne_50m_admin_0_countries.shp'\n",
    "world = gpd.read_file(path_to_shapefile)\n",
    "europe = world[world['CONTINENT'] == 'Europe']\n",
    "europe = europe.to_crs(filtered_gdf.crs)\n",
    "\n",
    "# Extract the boundary of Europe\n",
    "europe_boundary = europe.unary_union\n",
    "\n",
    "# Initialize the list to hold boundary paths\n",
    "boundary_paths = []\n",
    "\n",
    "# Handle both Polygon and MultiPolygon cases\n",
    "if isinstance(europe_boundary, Polygon):\n",
    "    boundary_paths.append(Path(np.array(europe_boundary.exterior.coords)))\n",
    "elif isinstance(europe_boundary, MultiPolygon):\n",
    "    for poly in europe_boundary.geoms:  # .geoms allows iterating over the individual Polygons in the MultiPolygon\n",
    "        boundary_paths.append(Path(np.array(poly.exterior.coords)))\n",
    "\n",
    "# Create a mask based on whether each point in the grid is within the boundary\n",
    "mask = np.zeros(X.shape, dtype=bool)\n",
    "for boundary_path in boundary_paths:\n",
    "    mask |= np.array([boundary_path.contains_point(point) for point in np.c_[X.ravel(), Y.ravel()]]).reshape(X.shape)\n",
    "\n",
    "# Invert the mask\n",
    "inverted_mask = ~mask\n",
    "\n",
    "# Mask the kriging output with the inverted mask\n",
    "z_masked = np.ma.masked_where(~inverted_mask, z)\n",
    "ss_masked = np.ma.masked_where(~inverted_mask, ss)\n",
    "\n",
    "# Mask the kriging output\n",
    "#z_masked = np.ma.masked_where(~mask, z)\n",
    "#ss_masked = np.ma.masked_where(~mask, ss)\n",
    "\n",
    "# Plot the results\n",
    "fig, (ax1, ax2) = plt.subplots(1, 2, figsize=(20, 12))\n",
    "\n",
    "# Plot interpolated data with the mask applied\n",
    "cf1 = ax1.contourf(X, Y, z_masked, cmap='viridis', alpha=0.5, levels=10, vmin=0, vmax=100)\n",
    "fig.colorbar(cf1, ax=ax1, label='Percentage of Males')\n",
    "europe.boundary.plot(ax=ax1, linewidth=1, edgecolor='k')\n",
    "ax1.set_title('Interpolated Proportion of Males in Europe')\n",
    "ax1.set_xlabel('Longitude')\n",
    "ax1.set_ylabel('Latitude')\n",
    "ax1.set_aspect('equal')\n",
    "\n",
    "# Plot the error (standard deviation) with the mask applied\n",
    "cf2 = ax2.contourf(X, Y, np.sqrt(ss_masked), cmap='hot_r', levels=10)\n",
    "fig.colorbar(cf2, ax=ax2, label='Standard Deviation')\n",
    "europe.boundary.plot(ax=ax2, linewidth=1, edgecolor='k')\n",
    "ax2.set_title('Kriging Error Map')\n",
    "ax2.set_xlabel('Longitude')\n",
    "ax2.set_ylabel('Latitude')\n",
    "ax2.set_aspect('equal')\n",
    "\n",
    "# Set axis limits\n",
    "ax1.set_xlim([X.min(), X.max()])\n",
    "ax1.set_ylim([Y.min(), Y.max()])\n",
    "ax2.set_xlim([X.min(), X.max()])\n",
    "ax2.set_ylim([Y.min(), Y.max()])\n",
    "\n",
    "# Save and show the plot\n",
    "plt.savefig('european_males_interpolation_and_error_cropped.jpg', dpi=600, format='jpg')\n",
    "plt.show()\n"
   ]
  },
  {
   "cell_type": "code",
   "execution_count": null,
   "id": "e55bb4e5",
   "metadata": {},
   "outputs": [],
   "source": []
  }
 ],
 "metadata": {
  "kernelspec": {
   "display_name": "Python 3 (ipykernel)",
   "language": "python",
   "name": "python3"
  },
  "language_info": {
   "codemirror_mode": {
    "name": "ipython",
    "version": 3
   },
   "file_extension": ".py",
   "mimetype": "text/x-python",
   "name": "python",
   "nbconvert_exporter": "python",
   "pygments_lexer": "ipython3",
   "version": "3.11.4"
  }
 },
 "nbformat": 4,
 "nbformat_minor": 5
}
